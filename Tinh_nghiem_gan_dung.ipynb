{
 "cells": [
  {
   "cell_type": "code",
   "execution_count": 1,
   "id": "ce8858aa",
   "metadata": {},
   "outputs": [
    {
     "name": "stdout",
     "output_type": "stream",
     "text": [
      "nghiệm: -0.58856201171875 và giá trị hàm: -4.0590870616363794e-05\n",
      "nghiệm: -0.5885009765625 và giá trị hàm: 4.4058709328553824e-05\n",
      "nghiệm: -0.58856201171875 và giá trị hàm: -4.0590870616363794e-05\n",
      "số bước 15\n"
     ]
    }
   ],
   "source": [
    "#. Tìm nghiệm gần đúng của hàm f(x) = e^x + sin(x) trong khoảng [-1, 1], với sai lệnh của nghiệm là alpha = 0.00001.\n",
    "# Gợi ý: dùng phương pháp chia đôi (bài này chỉ while mới giải quyết được, for hay cái khác không giải quyết được)\n",
    "import math\n",
    "a = -1\n",
    "b = 1\n",
    "alpha = 0.0001\n",
    "fa = math.pow(math.e, a) + math.sin(a)\n",
    "fb = math.pow(math.e, b) + math.sin(b)\n",
    "step = 0\n",
    "if fa*fb > 0:\n",
    "    print ('no')\n",
    "else:\n",
    "    while math.fabs(a-b) > alpha:\n",
    "        c = (a + b)/2\n",
    "        fc = math.pow(math.e, c) + math.sin(c)\n",
    "        if fa*fc > 0:\n",
    "            a = c\n",
    "        else:\n",
    "            b = c\n",
    "        fa = math.pow(math.e, a) + math.sin(a)\n",
    "        fb = math.pow(math.e, b) + math.sin(b)\n",
    "        step += 1\n",
    "    print('nghiệm: {a} và giá trị hàm: {fa}'.format(a=a, fa=fa))\n",
    "    print('nghiệm: {b} và giá trị hàm: {fb}'.format(b=b, fb=fb))\n",
    "    print('nghiệm: {c} và giá trị hàm: {fc}'.format(c=c, fc=fc))\n",
    "    print('số bước',step)\n",
    "            \n"
   ]
  }
 ],
 "metadata": {
  "kernelspec": {
   "display_name": "Python 3 (ipykernel)",
   "language": "python",
   "name": "python3"
  },
  "language_info": {
   "codemirror_mode": {
    "name": "ipython",
    "version": 3
   },
   "file_extension": ".py",
   "mimetype": "text/x-python",
   "name": "python",
   "nbconvert_exporter": "python",
   "pygments_lexer": "ipython3",
   "version": "3.9.7"
  }
 },
 "nbformat": 4,
 "nbformat_minor": 5
}
