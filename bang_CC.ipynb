{
 "cells": [
  {
   "cell_type": "code",
   "execution_count": 1,
   "id": "42f72eaf",
   "metadata": {
    "scrolled": true
   },
   "outputs": [
    {
     "name": "stdout",
     "output_type": "stream",
     "text": [
      "Nhập số tự nhiên: 2\n",
      "Nhập số tự nhiên: 7\n",
      "2 x 1 = 2\t3 x 1 = 3\t4 x 1 = 4\t5 x 1 = 5\t6 x 1 = 6\t7 x 1 = 7\t\n",
      "2 x 2 = 4\t3 x 2 = 6\t4 x 2 = 8\t5 x 2 = 10\t6 x 2 = 12\t7 x 2 = 14\t\n",
      "2 x 3 = 6\t3 x 3 = 9\t4 x 3 = 12\t5 x 3 = 15\t6 x 3 = 18\t7 x 3 = 21\t\n",
      "2 x 4 = 8\t3 x 4 = 12\t4 x 4 = 16\t5 x 4 = 20\t6 x 4 = 24\t7 x 4 = 28\t\n",
      "2 x 5 = 10\t3 x 5 = 15\t4 x 5 = 20\t5 x 5 = 25\t6 x 5 = 30\t7 x 5 = 35\t\n",
      "2 x 6 = 12\t3 x 6 = 18\t4 x 6 = 24\t5 x 6 = 30\t6 x 6 = 36\t7 x 6 = 42\t\n",
      "2 x 7 = 14\t3 x 7 = 21\t4 x 7 = 28\t5 x 7 = 35\t6 x 7 = 42\t7 x 7 = 49\t\n",
      "2 x 8 = 16\t3 x 8 = 24\t4 x 8 = 32\t5 x 8 = 40\t6 x 8 = 48\t7 x 8 = 56\t\n",
      "2 x 9 = 18\t3 x 9 = 27\t4 x 9 = 36\t5 x 9 = 45\t6 x 9 = 54\t7 x 9 = 63\t\n",
      "2 x 10 = 20\t3 x 10 = 30\t4 x 10 = 40\t5 x 10 = 50\t6 x 10 = 60\t7 x 10 = 70\t\n",
      "2 x 11 = 22\t3 x 11 = 33\t4 x 11 = 44\t5 x 11 = 55\t6 x 11 = 66\t7 x 11 = 77\t\n",
      "2 x 12 = 24\t3 x 12 = 36\t4 x 12 = 48\t5 x 12 = 60\t6 x 12 = 72\t7 x 12 = 84\t\n",
      "2 x 13 = 26\t3 x 13 = 39\t4 x 13 = 52\t5 x 13 = 65\t6 x 13 = 78\t7 x 13 = 91\t\n",
      "2 x 14 = 28\t3 x 14 = 42\t4 x 14 = 56\t5 x 14 = 70\t6 x 14 = 84\t7 x 14 = 98\t\n",
      "2 x 15 = 30\t3 x 15 = 45\t4 x 15 = 60\t5 x 15 = 75\t6 x 15 = 90\t7 x 15 = 105\t\n",
      "2 x 16 = 32\t3 x 16 = 48\t4 x 16 = 64\t5 x 16 = 80\t6 x 16 = 96\t7 x 16 = 112\t\n",
      "2 x 17 = 34\t3 x 17 = 51\t4 x 17 = 68\t5 x 17 = 85\t6 x 17 = 102\t7 x 17 = 119\t\n",
      "2 x 18 = 36\t3 x 18 = 54\t4 x 18 = 72\t5 x 18 = 90\t6 x 18 = 108\t7 x 18 = 126\t\n",
      "2 x 19 = 38\t3 x 19 = 57\t4 x 19 = 76\t5 x 19 = 95\t6 x 19 = 114\t7 x 19 = 133\t\n"
     ]
    }
   ],
   "source": [
    "## Bảng cửu chương\n",
    "n = int(input('Nhập số tự nhiên: '))\n",
    "m = int(input('Nhập số tự nhiên: '))\n",
    "\n",
    "for j in range(1,20):\n",
    "    for i in range(n,m+1):\n",
    "        print('{i} x {j} = {kp}'.format(i=i, j=j, kp=i*j), end ='\\t')\n",
    "    print('')\n",
    "\n"
   ]
  }
 ],
 "metadata": {
  "kernelspec": {
   "display_name": "Python 3 (ipykernel)",
   "language": "python",
   "name": "python3"
  },
  "language_info": {
   "codemirror_mode": {
    "name": "ipython",
    "version": 3
   },
   "file_extension": ".py",
   "mimetype": "text/x-python",
   "name": "python",
   "nbconvert_exporter": "python",
   "pygments_lexer": "ipython3",
   "version": "3.9.7"
  }
 },
 "nbformat": 4,
 "nbformat_minor": 5
}
